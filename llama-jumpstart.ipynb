{
 "cells": [
  {
   "cell_type": "markdown",
   "id": "a7d30a00",
   "metadata": {},
   "source": [
    "# LLaMA on SageMaker JumpStart — Clean Room Tutorial (My Reference Copy)\n",
    "> **Purpose of this notebook:** a **self-contained, reproducible** guide to deploy a LLaMA model on **Amazon SageMaker JumpStart**.  \n",
    "> **Why this exists:** to avoid confusing it with my older Falcon notebook; this one is **LLaMA-only** and uses **JumpStart helpers**.\n",
    "---\n",
    "## What you’ll do (TL;DR)\n",
    "1. Pick a **LLaMA** JumpStart model ID valid in **my AWS region**.\n",
    "2. Use **JumpStart helper utilities** to fetch image+artifacts.\n",
    "3. Deploy an **inference endpoint**.\n",
    "4. Run **test prompts** and adjust parameters.\n",
    "5. **Monitor & clean up**.\n",
    "> **Note**: LLaMA models require acceptance of Meta’s license/terms. Ensure your account has access before deployment."
   ]
  },
  {
   "cell_type": "markdown",
   "id": "0a9fbf8d",
   "metadata": {},
   "source": [
    "## Requirements & Assumptions\n",
    "- I’m running this in **SageMaker Studio** with an attached execution role that has access to SageMaker, S3, and CloudWatch.\n",
    "- The **sagemaker** Python SDK is recent (upgrade cell below if needed).\n",
    "- I have **accepted** the relevant model EULAs/terms (Meta) where required.\n",
    "- I understand JumpStart model availability can vary by **region**."
   ]
  },
  {
   "cell_type": "code",
   "execution_count": null,
   "id": "09ed0dcb",
   "metadata": {},
   "outputs": [],
   "source": [
    "# OPTIONAL: Upgrade the SageMaker SDK if I hit import/JumpStart issues.\n",
    "# !pip install --upgrade --quiet sagemaker boto3 botocore"
   ]
  },
  {
   "cell_type": "markdown",
   "id": "8f6d11c8",
   "metadata": {},
   "source": [
    "## Step 0 — Set AWS region and IAM role\n",
    "- Region drives which JumpStart **model IDs** are available.\n",
    "- Role must have permissions to create and invoke endpoints."
   ]
  },
  {
   "cell_type": "code",
   "execution_count": null,
   "id": "76189d62",
   "metadata": {},
   "outputs": [],
   "source": [
    "import os, boto3, sagemaker\n",
    "from sagemaker import Session\n",
    "session = Session()\n",
    "region = session.boto_region_name or os.environ.get(\"AWS_DEFAULT_REGION\", \"us-east-1\")\n",
    "try:\n",
    "    from sagemaker import get_execution_role\n",
    "    role = get_execution_role()\n",
    "except Exception:\n",
    "    role = os.environ.get(\"SAGEMAKER_EXECUTION_ROLE_ARN\", \"arn:aws:iam::<ACCOUNT_ID>:role/<SageMakerExecutionRole>\")\n",
    "print(f\"Region: {region}\\nRole:   {role}\")"
   ]
  },
  {
   "cell_type": "markdown",
   "id": "fbdf3fa0",
   "metadata": {},
   "source": [
    "## Step 1 — Pick the **LLaMA** JumpStart model ID (region-specific)\n",
    "Verify in SageMaker Studio JumpStart UI before running.\n",
    "- Example IDs:\n",
    "  - `meta-textgeneration-llama-3-8b-instruct`\n",
    "  - `meta-textgeneration-llama-2-7b-instruct`"
   ]
  },
  {
   "cell_type": "code",
   "execution_count": null,
   "id": "af54e8fe",
   "metadata": {},
   "outputs": [],
   "source": [
    "model_id = \"meta-textgeneration-llama-3-8b-instruct\"  # <- change if needed\n",
    "model_version = \"*\""
   ]
  },
  {
   "cell_type": "markdown",
   "id": "d536b4f6",
   "metadata": {},
   "source": [
    "## Step 2 — Retrieve JumpStart assets (image URI, model artifact, environment)"
   ]
  },
  {
   "cell_type": "code",
   "execution_count": null,
   "id": "d56b5408",
   "metadata": {},
   "outputs": [],
   "source": [
    "from sagemaker import image_uris, model_uris, environment_variables\n",
    "inference_image_uri = image_uris.retrieve(model_id=model_id, model_version=model_version, image_scope=\"inference\", region=region)\n",
    "model_uri = model_uris.retrieve(model_id=model_id, model_version=model_version, region=region)\n",
    "env = environment_variables.retrieve(model_id=model_id, model_version=model_version, region=region)\n",
    "print(\"Image URI:\", inference_image_uri)\n",
    "print(\"Model URI:\", model_uri)"
   ]
  },
  {
   "cell_type": "markdown",
   "id": "3cf2b00c",
   "metadata": {},
   "source": [
    "## Step 3 — Create the SageMaker Model & Deploy the Endpoint"
   ]
  },
  {
   "cell_type": "code",
   "execution_count": null,
   "id": "e2ce9891",
   "metadata": {},
   "outputs": [],
   "source": [
    "from sagemaker.model import Model\n",
    "sm_model = Model(image_uri=inference_image_uri, model_data=model_uri, role=role, env=env, sagemaker_session=session)\n",
    "endpoint_name = f\"llama-jumpstart-endpoint\"\n",
    "instance_type = \"ml.g5.xlarge\"\n",
    "predictor = sm_model.deploy(endpoint_name=endpoint_name, initial_instance_count=1, instance_type=instance_type)"
   ]
  },
  {
   "cell_type": "markdown",
   "id": "a112b506",
   "metadata": {},
   "source": [
    "## Step 4 — Invoke the Endpoint (test prompts)"
   ]
  },
  {
   "cell_type": "code",
   "execution_count": null,
   "id": "eb10e45a",
   "metadata": {},
   "outputs": [],
   "source": [
    "payload = {\"inputs\": \"Explain vector databases to a junior developer.\", \"parameters\": {\"max_new_tokens\": 128, \"temperature\": 0.7}}\n",
    "response = predictor.predict(payload)\n",
    "print(response)"
   ]
  },
  {
   "cell_type": "markdown",
   "id": "ce6be808",
   "metadata": {},
   "source": [
    "## Step 5 — Clean Up"
   ]
  },
  {
   "cell_type": "code",
   "execution_count": null,
   "id": "7c8df4e9",
   "metadata": {},
   "outputs": [],
   "source": [
    "predictor.delete_endpoint(delete_endpoint_config=True)"
   ]
  }
 ],
 "metadata": {},
 "nbformat": 4,
 "nbformat_minor": 5
}
